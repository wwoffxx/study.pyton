{
 "cells": [
  {
   "cell_type": "markdown",
   "metadata": {},
   "source": [
    "Метод разделимых наименьших квадратов. Квантовые дефекты\n",
    "Используя метод разделимых наименьших квадратов, построим модель вида$$\n",
    "y = \\beta_1 - \\beta_2 x - \\frac{\\arctan(\\frac{\\beta_3}{x-\\beta_4})}{\\pi}\n",
    "$$\n",
    "\n",
    "Предиктор $x$ – возбужденное состояние энергии, переменная отклика $y$ – число квантовых дефектов."
   ]
  },
  {
   "cell_type": "code",
   "execution_count": 95,
   "metadata": {},
   "outputs": [],
   "source": [
    "import math\n",
    "import numpy as np\n",
    "from scipy.optimize import minimize, curve_fit\n",
    "from numpy.linalg import lstsq,norm\n",
    "import matplotlib.pyplot as plt"
   ]
  },
  {
   "cell_type": "code",
   "execution_count": 3,
   "metadata": {},
   "outputs": [],
   "source": [
    "data = \"\"\"-4868.68      0.252429  \n",
    "       -4868.09      0.252141  \n",
    "       -4867.41      0.251809  \n",
    "       -3375.19      0.297989  \n",
    "       -3373.14      0.296257  \n",
    "       -3372.03      0.295319  \n",
    "       -2473.74      0.339603  \n",
    "       -2472.35      0.337731  \n",
    "       -2469.45      0.333820  \n",
    "       -1894.65      0.389510  \n",
    "       -1893.40      0.386998  \n",
    "       -1497.24      0.438864  \n",
    "       -1495.85      0.434887  \n",
    "       -1493.41      0.427893  \n",
    "       -1208.68      0.471568  \n",
    "       -1206.18      0.461699  \n",
    "       -1206.04      0.461144  \n",
    "        -997.92      0.513532  \n",
    "        -996.61      0.506641  \n",
    "        -996.31      0.505062  \n",
    "        -834.94      0.535648  \n",
    "        -834.66      0.533726  \n",
    "        -710.03      0.568064  \n",
    "        -530.16      0.612886  \n",
    "        -464.17      0.624169\"\"\".split(\"      \")"
   ]
  },
  {
   "cell_type": "code",
   "execution_count": 4,
   "metadata": {
    "scrolled": true
   },
   "outputs": [
    {
     "data": {
      "text/plain": [
       "[-4868.68,\n",
       " 0.252429,\n",
       " -4868.09,\n",
       " 0.252141,\n",
       " -4867.41,\n",
       " 0.251809,\n",
       " -3375.19,\n",
       " 0.297989,\n",
       " -3373.14,\n",
       " 0.296257,\n",
       " -3372.03,\n",
       " 0.295319,\n",
       " -2473.74,\n",
       " 0.339603,\n",
       " -2472.35,\n",
       " 0.337731,\n",
       " -2469.45,\n",
       " 0.33382,\n",
       " -1894.65,\n",
       " 0.38951,\n",
       " -1893.4,\n",
       " 0.386998,\n",
       " -1497.24,\n",
       " 0.438864,\n",
       " -1495.85,\n",
       " 0.434887,\n",
       " -1493.41,\n",
       " 0.427893,\n",
       " -1208.68,\n",
       " 0.471568,\n",
       " -1206.18,\n",
       " 0.461699,\n",
       " -1206.04,\n",
       " 0.461144,\n",
       " -997.92,\n",
       " 0.513532,\n",
       " -996.61,\n",
       " 0.506641,\n",
       " -996.31,\n",
       " 0.505062,\n",
       " -834.94,\n",
       " 0.535648,\n",
       " -834.66,\n",
       " 0.533726,\n",
       " -710.03,\n",
       " 0.568064,\n",
       " -530.16,\n",
       " 0.612886,\n",
       " -464.17,\n",
       " 0.624169]"
      ]
     },
     "execution_count": 4,
     "metadata": {},
     "output_type": "execute_result"
    }
   ],
   "source": [
    "data = [float(x.strip('\\n').strip(' ')) for x in data]\n",
    "data"
   ]
  },
  {
   "cell_type": "code",
   "execution_count": 5,
   "metadata": {},
   "outputs": [],
   "source": [
    "X = np.array(data[::2])\n",
    "Y = np.array(data[1::2])"
   ]
  },
  {
   "cell_type": "code",
   "execution_count": 18,
   "metadata": {
    "scrolled": true
   },
   "outputs": [
    {
     "name": "stdout",
     "output_type": "stream",
     "text": [
      "[-4868.68 -4868.09 -4867.41 -3375.19 -3373.14 -3372.03 -2473.74 -2472.35\n",
      " -2469.45 -1894.65 -1893.4  -1497.24 -1495.85 -1493.41 -1208.68 -1206.18\n",
      " -1206.04  -997.92  -996.61  -996.31  -834.94  -834.66  -710.03  -530.16\n",
      "  -464.17] [0.252429 0.252141 0.251809 0.297989 0.296257 0.295319 0.339603 0.337731\n",
      " 0.33382  0.38951  0.386998 0.438864 0.434887 0.427893 0.471568 0.461699\n",
      " 0.461144 0.513532 0.506641 0.505062 0.535648 0.533726 0.568064 0.612886\n",
      " 0.624169]\n"
     ]
    }
   ],
   "source": [
    "print(X,Y)"
   ]
  },
  {
   "cell_type": "markdown",
   "metadata": {},
   "source": [
    "#### Построим функцию модели"
   ]
  },
  {
   "cell_type": "code",
   "execution_count": 77,
   "metadata": {},
   "outputs": [],
   "source": [
    "def model(x,b1,b2,b3,b4):\n",
    "    return b1 - b2*x - np.arctan(b3/(x-b4))/math.pi"
   ]
  },
  {
   "cell_type": "markdown",
   "metadata": {},
   "source": [
    "#### Рассмотрим параметры полученные нелинейным МНК как эталонное решение для сравнения"
   ]
  },
  {
   "cell_type": "code",
   "execution_count": 78,
   "metadata": {},
   "outputs": [
    {
     "name": "stdout",
     "output_type": "stream",
     "text": [
      "0.2019684894050175 -6.1953246821417266e-06 1204.4563632015252 -181.343091966604\n"
     ]
    }
   ],
   "source": [
    "b1_nl,b2_nl,b3_nl,b4_nl = curve_fit(model,X,Y)[0]\n",
    "print(b1_nl,b2_nl,b3_nl,b4_nl)\n",
    "#curve_fit(model,X,Y)[0]"
   ]
  },
  {
   "cell_type": "code",
   "execution_count": 80,
   "metadata": {},
   "outputs": [
    {
     "data": {
      "text/plain": [
       "array([0.25186613, 0.25187945, 0.2518948 , 0.29584892, 0.29592912,\n",
       "       0.29597257, 0.340632  , 0.34072012, 0.34090421, 0.38527082,\n",
       "       0.38538788, 0.4286273 , 0.42880347, 0.42911318, 0.46968918,\n",
       "       0.47008751, 0.47010984, 0.50614261, 0.50638803, 0.50644426,\n",
       "       0.53853787, 0.53859677, 0.56591015, 0.60895456, 0.62567826])"
      ]
     },
     "execution_count": 80,
     "metadata": {},
     "output_type": "execute_result"
    }
   ],
   "source": [
    "Y_model = model(X,b1_nl,b2_nl,b3_nl,b4_nl)\n",
    "Y_model"
   ]
  },
  {
   "cell_type": "code",
   "execution_count": 81,
   "metadata": {},
   "outputs": [
    {
     "data": {
      "text/plain": [
       "0.02224518989156376"
      ]
     },
     "execution_count": 81,
     "metadata": {},
     "output_type": "execute_result"
    }
   ],
   "source": [
    "norm(Y_model-Y,ord=2) # Мера приближения для сравнения"
   ]
  },
  {
   "cell_type": "code",
   "execution_count": 85,
   "metadata": {},
   "outputs": [
    {
     "data": {
      "text/plain": [
       "[<matplotlib.lines.Line2D at 0x23bfd7c5ec8>]"
      ]
     },
     "execution_count": 85,
     "metadata": {},
     "output_type": "execute_result"
    },
    {
     "data": {
      "image/png": "[encoded data removed]",
      "text/plain": [
       "<Figure size 432x288 with 1 Axes>"
      ]
     },
     "metadata": {
      "needs_background": "light"
     },
     "output_type": "display_data"
    }
   ],
   "source": [
    "plt.plot(X,Y,'.')\n",
    "X_ls = np.linspace(X[0],X[-1],100)\n",
    "plt.plot(X_ls,model(X_ls,b1_nl,b2_nl,b3_nl,b4_nl)) # Видим на графике хорошее приближение"
   ]
  },
  {
   "cell_type": "markdown",
   "metadata": {},
   "source": [
    "### Реализуем метод разделенных наименьших квадратов, сначала воспользуемся в качестве внешней оптимизации нелинейных параметров функцию minimize библиотеки scipy"
   ]
  },
  {
   "cell_type": "code",
   "execution_count": 8,
   "metadata": {},
   "outputs": [],
   "source": [
    "def fun(b,x,y):\n",
    "    b3,b4 = b[0],b[1]\n",
    "    b1,b2 = lin_opt(x,y,b3,b4)[0]\n",
    "    return norm(model(x,b1,b2,b3,b4) - y, ord=2)\n",
    "\n",
    "def lin_opt(X,Y,b3,b4):\n",
    "    atan = np.arctan(b3/(X-b4))/math.pi\n",
    "    A = np.concatenate((np.array([1]*len(X)).reshape((-1,1)),X.reshape((-1,1))),axis=1)\n",
    "    b1_2 = lstsq(A,Y+atan)\n",
    "    return b1_2"
   ]
  },
  {
   "cell_type": "code",
   "execution_count": 123,
   "metadata": {},
   "outputs": [
    {
     "name": "stdout",
     "output_type": "stream",
     "text": [
      "0.16486912537146559 2.5149166617436033e-08 1322.0409115361765 -288.1585580384265\n"
     ]
    },
    {
     "name": "stderr",
     "output_type": "stream",
     "text": [
      "C:\\Users\\burzi\\Anaconda3\\lib\\site-packages\\ipykernel_launcher.py:12: FutureWarning: `rcond` parameter will change to the default of machine precision times ``max(M, N)`` where M and N are the input matrix dimensions.\n",
      "To use the future default and silence this warning we advise to pass `rcond=None`, to keep using the old, explicitly pass `rcond=-1`.\n",
      "  if sys.path[0] == '':\n"
     ]
    }
   ],
   "source": [
    "b3,b4 = minimize(fun,(5,10),args=(X,Y),method='Powell').x #Воспользуемся методом Powell так как он дает результат наиболее близкий к эталонному\n",
    "b1,b2 = lin_opt(X,Y,b3,b4)[0]\n",
    "print(b1,b2,b3,b4)"
   ]
  },
  {
   "cell_type": "markdown",
   "metadata": {},
   "source": [
    "#### Полученные значения отличаются от эталонных, рассмотрим качество полученного приближения"
   ]
  },
  {
   "cell_type": "code",
   "execution_count": 128,
   "metadata": {
    "scrolled": true
   },
   "outputs": [],
   "source": [
    "def fit_quality(model,b1,b2,b3,b4):\n",
    "    Y_model = model(X,b1,b2,b3,b4)\n",
    "    print('Мера приближения: ',norm(Y_model-Y,ord=2))\n",
    "    plt.plot(X,Y,'.')\n",
    "    X_ls = np.linspace(X[0],X[-1],100)\n",
    "    plt.plot(X_ls,model(X_ls,b1,b2,b3,b4)) # Видим на графике хорошее приближение"
   ]
  },
  {
   "cell_type": "code",
   "execution_count": 129,
   "metadata": {
    "scrolled": false
   },
   "outputs": [
    {
     "name": "stdout",
     "output_type": "stream",
     "text": [
      "Мера приближения:  0.02416633425269449\n"
     ]
    },
    {
     "data": {
      "image/png": "[encoded data removed]",
      "text/plain": [
       "<Figure size 432x288 with 1 Axes>"
      ]
     },
     "metadata": {
      "needs_background": "light"
     },
     "output_type": "display_data"
    }
   ],
   "source": [
    "fit_quality(model,b1,b2,b3,b4)"
   ]
  },
  {
   "cell_type": "markdown",
   "metadata": {},
   "source": [
    "### Значения полученные с помощью функции minimize(которая не обязана доставлять глобальный минимум) дают локальным минимум функции тогда как эталонные вероятнее глобальный, ввиду того что мера качества в эталонном приближении выше"
   ]
  },
  {
   "cell_type": "code",
   "execution_count": 138,
   "metadata": {},
   "outputs": [],
   "source": [
    "def quad_poly_model(x,c1,c2,c3):\n",
    "    return c1+c2*x+c3*x**2"
   ]
  },
  {
   "cell_type": "code",
   "execution_count": 139,
   "metadata": {},
   "outputs": [
    {
     "name": "stdout",
     "output_type": "stream",
     "text": [
      "0.6866879386302647 0.00019763582819480596 2.2576126634816403e-08\n"
     ]
    }
   ],
   "source": [
    "c1,c2,c3 = curve_fit(quad_poly_model,X,Y)[0]\n",
    "print(c1,c2,c3)"
   ]
  },
  {
   "cell_type": "code",
   "execution_count": 141,
   "metadata": {},
   "outputs": [
    {
     "data": {
      "text/plain": [
       "array([0.25960785, 0.25959477, 0.2595797 , 0.27681461, 0.27690745,\n",
       "       0.27695779, 0.3359404 , 0.3360599 , 0.3363095 , 0.39327871,\n",
       "       0.39341885, 0.4413892 , 0.44156999, 0.44188755, 0.48079109,\n",
       "       0.48114889, 0.48116893, 0.5119455 , 0.51214542, 0.51219121,\n",
       "       0.53741226, 0.53745704, 0.55774216, 0.58825479, 0.59981543])"
      ]
     },
     "execution_count": 141,
     "metadata": {},
     "output_type": "execute_result"
    }
   ],
   "source": [
    "Y_model = quad_poly_model(X,c1,c2,c3)\n",
    "Y_model"
   ]
  },
  {
   "cell_type": "code",
   "execution_count": 142,
   "metadata": {},
   "outputs": [
    {
     "data": {
      "text/plain": [
       "0.06263755438626785"
      ]
     },
     "execution_count": 142,
     "metadata": {},
     "output_type": "execute_result"
    }
   ],
   "source": [
    "norm(Y_model-Y,ord=2)"
   ]
  },
  {
   "cell_type": "code",
   "execution_count": 143,
   "metadata": {},
   "outputs": [
    {
     "data": {
      "text/plain": [
       "[<matplotlib.lines.Line2D at 0x23bff9dde48>]"
      ]
     },
     "execution_count": 143,
     "metadata": {},
     "output_type": "execute_result"
    },
    {
     "data": {
      "image/png": "[encoded data removed]",
      "text/plain": [
       "<Figure size 432x288 with 1 Axes>"
      ]
     },
     "metadata": {
      "needs_background": "light"
     },
     "output_type": "display_data"
    }
   ],
   "source": [
    "plt.plot(X,Y,'.')\n",
    "X_ls = np.linspace(X[0],X[-1],100)\n",
    "plt.plot(X_ls,quad_poly_model(X_ls,c1,c2,c3))"
   ]
  },
  {
   "cell_type": "markdown",
   "metadata": {},
   "source": [
    "### Приближение квадратным многочленом значительно хуже в сравнении в исходной моделью"
   ]
  }
 ],
 "metadata": {
  "kernelspec": {
   "display_name": "Python 3",
   "language": "python",
   "name": "python3"
  },
  "language_info": {
   "codemirror_mode": {
    "name": "ipython",
    "version": 3
   },
   "file_extension": ".py",
   "mimetype": "text/x-python",
   "name": "python",
   "nbconvert_exporter": "python",
   "pygments_lexer": "ipython3",
   "version": "3.7.4"
  }
 },
 "nbformat": 4,
 "nbformat_minor": 4
}
